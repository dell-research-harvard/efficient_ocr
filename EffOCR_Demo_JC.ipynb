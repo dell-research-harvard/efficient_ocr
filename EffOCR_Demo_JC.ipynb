{
  "nbformat": 4,
  "nbformat_minor": 0,
  "metadata": {
    "colab": {
      "provenance": []
    },
    "kernelspec": {
      "name": "python3",
      "display_name": "Python 3"
    },
    "language_info": {
      "name": "python"
    }
  },
  "cells": [
    {
      "cell_type": "code",
      "execution_count": null,
      "metadata": {
        "id": "ChabJXoTVcUU"
      },
      "outputs": [],
      "source": [
        "### Install EffOCR Package\n"
      ]
    },
    {
      "cell_type": "code",
      "source": [
        "### Import\n",
        "import effocr\n",
        "import cv2"
      ],
      "metadata": {
        "id": "pmXc319MV2zf"
      },
      "execution_count": null,
      "outputs": []
    },
    {
      "cell_type": "markdown",
      "source": [
        "## 0. Config"
      ],
      "metadata": {
        "id": "uRakAoXpX0g3"
      }
    },
    {
      "cell_type": "code",
      "source": [
        "### Show Config, editing, etc."
      ],
      "metadata": {
        "id": "k7CSp5uHYF3u"
      },
      "execution_count": null,
      "outputs": []
    },
    {
      "cell_type": "markdown",
      "source": [
        "## 1. Zero Shot Inference"
      ],
      "metadata": {
        "id": "2K20vG2UWuhY"
      }
    },
    {
      "cell_type": "code",
      "source": [],
      "metadata": {
        "id": "HiaJKt7SYoeL"
      },
      "execution_count": null,
      "outputs": []
    },
    {
      "cell_type": "code",
      "source": [
        "### Demonstrate Zero Shot capabilities\n",
        "\n",
        "### Read Images (find friendly examples)\n",
        "img = cv2.imread(XXXX)\n",
        "\n",
        "### Display within notebook\n"
      ],
      "metadata": {
        "id": "Y9T_zd33V0RD"
      },
      "execution_count": null,
      "outputs": []
    },
    {
      "cell_type": "code",
      "source": [
        "engine = effocr.EffOCR(config = 'path/to/config.yaml')"
      ],
      "metadata": {
        "id": "OuP40uUDY7xt"
      },
      "execution_count": null,
      "outputs": []
    },
    {
      "cell_type": "code",
      "source": [
        "# Run EffOCR\n",
        "result = engine.infer(img)\n",
        "\n",
        "# Display results\n",
        "print(result.text)"
      ],
      "metadata": {
        "id": "Fe3p_zqKWTm9"
      },
      "execution_count": null,
      "outputs": []
    },
    {
      "cell_type": "code",
      "source": [
        "# Show Visualization\n",
        "img = effocr.display_detections(img, result.preds)\n",
        "display(image)"
      ],
      "metadata": {
        "id": "w6WzdW7CWbAV"
      },
      "execution_count": null,
      "outputs": []
    },
    {
      "cell_type": "markdown",
      "source": [
        "## 2. Few Shot Learning"
      ],
      "metadata": {
        "id": "RI3ZclcJWxiv"
      }
    },
    {
      "cell_type": "code",
      "source": [
        "### Show"
      ],
      "metadata": {
        "id": "PBc3FfeoXnAd"
      },
      "execution_count": null,
      "outputs": []
    },
    {
      "cell_type": "markdown",
      "source": [
        "## 3. End-to-End Training"
      ],
      "metadata": {
        "id": "XbSIj2LJYaJM"
      }
    },
    {
      "cell_type": "code",
      "source": [
        "### Show data json, image folder, demonstrate full training"
      ],
      "metadata": {
        "id": "yO0fKeV3YcIu"
      },
      "execution_count": null,
      "outputs": []
    }
  ]
}